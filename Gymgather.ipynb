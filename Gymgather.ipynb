{
 "cells": [
  {
   "cell_type": "code",
   "execution_count": 1,
   "id": "490fc496",
   "metadata": {},
   "outputs": [
    {
     "name": "stdout",
     "output_type": "stream",
     "text": [
      "Defaulting to user installation because normal site-packages is not writeable\n",
      "Requirement already satisfied: mediapipe in /Users/mariocm/Library/Python/3.8/lib/python/site-packages (0.8.9.1)\n",
      "Requirement already satisfied: opencv-python in /Users/mariocm/Library/Python/3.8/lib/python/site-packages (4.5.5.64)\n",
      "Requirement already satisfied: absl-py in /Users/mariocm/Library/Python/3.8/lib/python/site-packages (from mediapipe) (1.0.0)\n",
      "Requirement already satisfied: protobuf>=3.11.4 in /Users/mariocm/Library/Python/3.8/lib/python/site-packages (from mediapipe) (3.20.0)\n",
      "Requirement already satisfied: numpy in /Users/mariocm/Library/Python/3.8/lib/python/site-packages (from mediapipe) (1.22.3)\n",
      "Requirement already satisfied: matplotlib in /Users/mariocm/Library/Python/3.8/lib/python/site-packages (from mediapipe) (3.5.1)\n",
      "Requirement already satisfied: opencv-contrib-python in /Users/mariocm/Library/Python/3.8/lib/python/site-packages (from mediapipe) (4.5.5.64)\n",
      "Requirement already satisfied: attrs>=19.1.0 in /Users/mariocm/Library/Python/3.8/lib/python/site-packages (from mediapipe) (21.2.0)\n",
      "Requirement already satisfied: six in /Library/Developer/CommandLineTools/Library/Frameworks/Python3.framework/Versions/3.8/lib/python3.8/site-packages (from absl-py->mediapipe) (1.15.0)\n",
      "Requirement already satisfied: pillow>=6.2.0 in /Users/mariocm/Library/Python/3.8/lib/python/site-packages (from matplotlib->mediapipe) (9.0.1)\n",
      "Requirement already satisfied: packaging>=20.0 in /Users/mariocm/Library/Python/3.8/lib/python/site-packages (from matplotlib->mediapipe) (20.9)\n",
      "Requirement already satisfied: cycler>=0.10 in /Users/mariocm/Library/Python/3.8/lib/python/site-packages (from matplotlib->mediapipe) (0.10.0)\n",
      "Requirement already satisfied: fonttools>=4.22.0 in /Users/mariocm/Library/Python/3.8/lib/python/site-packages (from matplotlib->mediapipe) (4.31.2)\n",
      "Requirement already satisfied: kiwisolver>=1.0.1 in /Users/mariocm/Library/Python/3.8/lib/python/site-packages (from matplotlib->mediapipe) (1.3.1)\n",
      "Requirement already satisfied: pyparsing>=2.2.1 in /Users/mariocm/Library/Python/3.8/lib/python/site-packages (from matplotlib->mediapipe) (2.4.7)\n",
      "Requirement already satisfied: python-dateutil>=2.7 in /Users/mariocm/Library/Python/3.8/lib/python/site-packages (from matplotlib->mediapipe) (2.8.1)\n",
      "Defaulting to user installation because normal site-packages is not writeable\n",
      "Collecting face_recognition\n",
      "  Using cached face_recognition-1.3.0-py2.py3-none-any.whl (15 kB)\n",
      "Collecting dlib>=19.7\n",
      "  Using cached dlib-19.23.1.tar.gz (7.4 MB)\n",
      "  Preparing metadata (setup.py) ... \u001b[?25ldone\n",
      "\u001b[?25hRequirement already satisfied: face-recognition-models>=0.3.0 in /Users/mariocm/Library/Python/3.8/lib/python/site-packages (from face_recognition) (0.3.0)\n",
      "Requirement already satisfied: numpy in /Users/mariocm/Library/Python/3.8/lib/python/site-packages (from face_recognition) (1.22.3)\n",
      "Requirement already satisfied: Click>=6.0 in /Users/mariocm/Library/Python/3.8/lib/python/site-packages (from face_recognition) (8.1.2)\n",
      "Requirement already satisfied: Pillow in /Users/mariocm/Library/Python/3.8/lib/python/site-packages (from face_recognition) (9.0.1)\n",
      "Building wheels for collected packages: dlib\n",
      "  Building wheel for dlib (setup.py) ... \u001b[?25ldone\n",
      "\u001b[?25h  Created wheel for dlib: filename=dlib-19.23.1-cp38-cp38-macosx_12_0_x86_64.whl size=3538785 sha256=d093e20d45dae4f665efaf542e657242c1899ef814242dd3e4598eae6e2025cc\n",
      "  Stored in directory: /Users/mariocm/Library/Caches/pip/wheels/3a/ac/73/b4a0ecae4672035801b9d8a9e83eb31049bd438e7ad6ce4852\n",
      "Successfully built dlib\n",
      "Installing collected packages: dlib, face_recognition\n",
      "Successfully installed dlib-19.23.1 face_recognition-1.3.0\n"
     ]
    }
   ],
   "source": [
    "!pip install mediapipe opencv-python\n",
    "!pip install face_recognition"
   ]
  },
  {
   "cell_type": "code",
   "execution_count": 3,
   "id": "f40cf0ba",
   "metadata": {},
   "outputs": [],
   "source": [
    "import cv2\n",
    "import face_recognition"
   ]
  },
  {
   "cell_type": "code",
   "execution_count": null,
   "id": "b04a3424",
   "metadata": {},
   "outputs": [],
   "source": [
    "video_capture = cv2.VideoCapture(0)\n",
    "\n",
    "while True:\n",
    "    ret, frame = video_capture.read()\n",
    "    \n",
    "rgb_frame = frame[:,:,::-1]\n",
    "\n",
    "face_locations = face_recognition.face_locations(rgb_frame)\n",
    "\n",
    "cv2.rectangle(frame, (left, top), (right, bottom), (0, 0, 255), 2)\n",
    "\n",
    "cv2.imshow('Video', frame)\n",
    "\n",
    "if cv2.waitKey(1) & 0xFF == ord('q'):\n",
    "    break\n",
    "    \n"
   ]
  },
  {
   "cell_type": "code",
   "execution_count": null,
   "id": "e92c3ba4",
   "metadata": {},
   "outputs": [],
   "source": []
  }
 ],
 "metadata": {
  "kernelspec": {
   "display_name": "Python 3",
   "language": "python",
   "name": "python3"
  },
  "language_info": {
   "codemirror_mode": {
    "name": "ipython",
    "version": 3
   },
   "file_extension": ".py",
   "mimetype": "text/x-python",
   "name": "python",
   "nbconvert_exporter": "python",
   "pygments_lexer": "ipython3",
   "version": "3.8.9"
  }
 },
 "nbformat": 4,
 "nbformat_minor": 5
}
