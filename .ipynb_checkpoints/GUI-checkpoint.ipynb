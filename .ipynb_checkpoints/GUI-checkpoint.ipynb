{
 "cells": [
  {
   "cell_type": "code",
   "execution_count": null,
   "id": "03c00be7",
   "metadata": {},
   "outputs": [],
   "source": [
    "import tkinter as tk\n",
    "#import tkinter.font as tkFont\n",
    "from tkinter import *\n",
    "from tkinter import ttk"
   ]
  },
  {
   "cell_type": "code",
   "execution_count": null,
   "id": "c392e2c2",
   "metadata": {},
   "outputs": [],
   "source": [
    "class GUI(Frame):\n",
    "    #def __init__(self, name):\n",
    "        \n",
    "    #inTex = Text()\n",
    "    # def getText(inputText):\n",
    "    #     tempString = inputText.get(\"1.0\", \"end\")\n",
    "    #     print(tempString)\n",
    "\n",
    "    # def button2Press(self):\n",
    "    #     print(\"Edit Class Name\")\n",
    "    #     tempWindow = Tk()\n",
    "    #     tempWindow.geometry(\"200x100+650+400\")\n",
    "    #     tempWindow.title(\"Edit Class Name\")\n",
    "    #     tempWindow.configure(background = '#25274D')\n",
    "    #     #tempWindow.resizable(False, False)\n",
    "    #     inputText = Text(tempWindow, height = 1, width = 20)\n",
    "    #     inputText.place(x = 17, y = 20)\n",
    "    #     tempButton = Button(tempWindow, text=\"Confirm\", bg='#464866', activebackground = \"#29648A\", \n",
    "    # width = 5, height = 1, fg = \"gray11\", font = (\"Helvetica\", 10), command = self.getText(inputText))\n",
    "    #     tempButton.place(x = 17, y = 30)\n",
    "        \n",
    "        #inTex = inputText\n",
    "        \n",
    "        \n",
    "        #Label(tempWindow, text = \"Enter new class name\", font = ('Calibri 12')).pack()\n",
    "        #x = Entry(tempWindow, width = 10)\n",
    "        \n",
    "\n",
    "    def button1Press():\n",
    "        print(\"Add New Students\")\n",
    "        #add = Add_Classmate()\n",
    "        #add.start()\n",
    "\n",
    "    def button2Press():\n",
    "        print(\"How to use\")\n",
    "        tempWindow = Tk()\n",
    "        tempWindow.geometry(\"600x300+650+400\")\n",
    "        tempWindow.title(\"How to use\")\n",
    "        tempWindow.configure(background = '#25274D')\n",
    "        displayText = Text(tempWindow, height = 10, width = 40, font = ('Calibri', 20), bg = '#25274D', fg = '#AAABB8', bd = 0,)\n",
    "        displayText.insert(INSERT, \"1.) \\\"S\\\" is to snap shots during data collection \")\n",
    "        displayText2 = Text(tempWindow, height = 10, width = 40, font = ('Calibri', 20), bg = '#25274D', fg = '#AAABB8', bd = 0,)\n",
    "        displayText2.insert(INSERT, \"2.) \\\"X\\\" is used to terminate the data collection.\")\n",
    "        displayText3 = Text(tempWindow, height = 10, width = 40, font = ('Calibri', 20), bg = '#25274D', fg = '#AAABB8', bd = 0,)\n",
    "        displayText3.insert(INSERT, \"3.) \\\"Q\\\" is used to quit the live feed for attendance\")\n",
    "        displayText.place(x = 17, y = 20)\n",
    "        displayText2.place(x = 17, y = 60)\n",
    "        displayText3.place(x = 17, y = 100)\n",
    "\n",
    "\n",
    "    def button3Press():\n",
    "        # print(\"Start Attendance\")\n",
    "        #live_feed = Scan()\n",
    "        #live_feed.start()\n",
    "\n",
    "    window = Tk()\n",
    "    window.title(\"OnSite\")"
   ]
  }
 ],
 "metadata": {
  "kernelspec": {
   "display_name": "Python 3",
   "language": "python",
   "name": "python3"
  },
  "language_info": {
   "codemirror_mode": {
    "name": "ipython",
    "version": 3
   },
   "file_extension": ".py",
   "mimetype": "text/x-python",
   "name": "python",
   "nbconvert_exporter": "python",
   "pygments_lexer": "ipython3",
   "version": "3.8.9"
  }
 },
 "nbformat": 4,
 "nbformat_minor": 5
}
